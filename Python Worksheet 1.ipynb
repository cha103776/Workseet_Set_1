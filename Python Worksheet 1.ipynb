{
 "cells": [
  {
   "cell_type": "code",
   "execution_count": 1,
   "id": "c3b54300",
   "metadata": {},
   "outputs": [
    {
     "data": {
      "text/plain": [
       "0"
      ]
     },
     "execution_count": 1,
     "metadata": {},
     "output_type": "execute_result"
    }
   ],
   "source": [
    "2//3"
   ]
  },
  {
   "cell_type": "code",
   "execution_count": 2,
   "id": "d8afd661",
   "metadata": {},
   "outputs": [
    {
     "data": {
      "text/plain": [
       "24"
      ]
     },
     "execution_count": 2,
     "metadata": {},
     "output_type": "execute_result"
    }
   ],
   "source": [
    "6<<2 "
   ]
  },
  {
   "cell_type": "code",
   "execution_count": 3,
   "id": "c788b61e",
   "metadata": {},
   "outputs": [
    {
     "data": {
      "text/plain": [
       "2"
      ]
     },
     "execution_count": 3,
     "metadata": {},
     "output_type": "execute_result"
    }
   ],
   "source": [
    "6&2 "
   ]
  },
  {
   "cell_type": "code",
   "execution_count": 4,
   "id": "d3f7beba",
   "metadata": {},
   "outputs": [
    {
     "data": {
      "text/plain": [
       "6"
      ]
     },
     "execution_count": 4,
     "metadata": {},
     "output_type": "execute_result"
    }
   ],
   "source": [
    "6|2 "
   ]
  },
  {
   "cell_type": "code",
   "execution_count": 5,
   "id": "f85c7dcd",
   "metadata": {},
   "outputs": [
    {
     "name": "stdout",
     "output_type": "stream",
     "text": [
      "Factorial of 11 is 39916800\n"
     ]
    }
   ],
   "source": [
    "# Q11 Write a python program to find the factorial of a number.\n",
    "## Recursive\n",
    "def factorial(n):  \n",
    "\n",
    "    return 1 if (n==1 or n==0) else n * factorial(n - 1);   \n",
    " \n",
    "num = 11;  \n",
    "print(\"Factorial of\",num,\"is\",  \n",
    "factorial(num)) "
   ]
  },
  {
   "cell_type": "code",
   "execution_count": 6,
   "id": "bd7b0801",
   "metadata": {},
   "outputs": [
    {
     "name": "stdout",
     "output_type": "stream",
     "text": [
      "Factorial of 5 is 5\n"
     ]
    }
   ],
   "source": [
    "# Q11 Write a python program to find the factorial of a number.\n",
    "# Iterative:\n",
    "def factorial(n):  \n",
    "\n",
    "    if n < 0:  \n",
    "\n",
    "        return 0 \n",
    "\n",
    "    elif n == 0 or n == 1:  \n",
    "\n",
    "        return 1 \n",
    "\n",
    "    else:  \n",
    "\n",
    "        fact = 1 \n",
    "\n",
    "        while(n > 1):  \n",
    "\n",
    "            fact *= n  \n",
    "\n",
    "            n -= 1 \n",
    "\n",
    "            return fact  \n",
    " \n",
    "num = 5;  \n",
    "print(\"Factorial of\",num,\"is\",  \n",
    "factorial(num)) "
   ]
  },
  {
   "cell_type": "code",
   "execution_count": 1,
   "id": "282b43a5",
   "metadata": {},
   "outputs": [
    {
     "name": "stdout",
     "output_type": "stream",
     "text": [
      "23 is a prime number\n"
     ]
    }
   ],
   "source": [
    "## Q12 Write a python program to find whether a number is prime or composite.\n",
    "\n",
    "num = 23\n",
    "\n",
    "#num = int(input(\"Enter a number: \"))\n",
    "\n",
    "flag = False\n",
    "\n",
    "if num > 1:\n",
    "\n",
    "    for i in range(2, num):\n",
    "        if (num % i) == 0:\n",
    "            \n",
    "            flag = True\n",
    "           \n",
    "            break\n",
    "\n",
    "if flag:\n",
    "    print(num, \"is not a prime number\")\n",
    "else:\n",
    "    print(num, \"is a prime number\")"
   ]
  },
  {
   "cell_type": "code",
   "execution_count": 2,
   "id": "ad159d45",
   "metadata": {},
   "outputs": [
    {
     "name": "stdout",
     "output_type": "stream",
     "text": [
      "Please give a String : SAS\n",
      "Given String is a Palindrome\n"
     ]
    }
   ],
   "source": [
    "## Q13. Write a python program to check whether a given string is palindrome or not.\n",
    "\n",
    "string = input(\"Please give a String : \")\n",
    "\n",
    "if(string == string[:: - 1]):\n",
    "\n",
    "    print(\"Given String is a Palindrome\")\n",
    "else:\n",
    "\n",
    "    print(\"Given String is not a Palindrome\") "
   ]
  },
  {
   "cell_type": "code",
   "execution_count": 5,
   "id": "93e70047",
   "metadata": {},
   "outputs": [
    {
     "name": "stdout",
     "output_type": "stream",
     "text": [
      "Hypotenuse = 5.0\n",
      "Adjacent = 4.0\n",
      "Opposite = 3.0\n",
      "We know the answer!\n"
     ]
    }
   ],
   "source": [
    "## Q14 Write a Python program to get the third side of right-angled triangle from two given sides.\n",
    "def pythagoras(opposite_side,adjacent_side,hypotenuse):\n",
    "        if opposite_side == str(\"x\"):\n",
    "            return (\"Opposite = \" + str(((hypotenuse**2) - (adjacent_side**2))**0.5))\n",
    "        elif adjacent_side == str(\"x\"):\n",
    "            return (\"Adjacent = \" + str(((hypotenuse**2) - (opposite_side**2))**0.5))\n",
    "        elif hypotenuse == str(\"x\"):\n",
    "            return (\"Hypotenuse = \" + str(((opposite_side**2) + (adjacent_side**2))**0.5))\n",
    "        else:\n",
    "            return \"We know the answer!\"\n",
    "    \n",
    "print(pythagoras(3,4,'x'))\n",
    "print(pythagoras(3,'x',5))\n",
    "print(pythagoras('x',4,5))\n",
    "print(pythagoras(3,4,5))"
   ]
  },
  {
   "cell_type": "code",
   "execution_count": 6,
   "id": "a38d551a",
   "metadata": {},
   "outputs": [
    {
     "name": "stdout",
     "output_type": "stream",
     "text": [
      "Total count of all characters in Chandrakant Wadile is :\n",
      " {'t': 1, 'i': 1, 'C': 1, 'n': 2, 'd': 2, 'h': 1, 'r': 1, 'l': 1, 'a': 4, 'W': 1, ' ': 1, 'e': 1, 'k': 1}\n"
     ]
    }
   ],
   "source": [
    "## Q15 Write a python program to print the frequency of each of the characters present in a given string.\n",
    "\n",
    "test_str = \"Chandrakant Wadile\"\n",
    "  \n",
    "res = {i : test_str.count(i) for i in set(test_str)}\n",
    "  \n",
    "print (\"Total count of all characters in Chandrakant Wadile is :\\n \"\n",
    "                                               +  str(res))"
   ]
  },
  {
   "cell_type": "code",
   "execution_count": null,
   "id": "a1b6cede",
   "metadata": {},
   "outputs": [],
   "source": []
  }
 ],
 "metadata": {
  "kernelspec": {
   "display_name": "Python 3",
   "language": "python",
   "name": "python3"
  },
  "language_info": {
   "codemirror_mode": {
    "name": "ipython",
    "version": 3
   },
   "file_extension": ".py",
   "mimetype": "text/x-python",
   "name": "python",
   "nbconvert_exporter": "python",
   "pygments_lexer": "ipython3",
   "version": "3.8.8"
  }
 },
 "nbformat": 4,
 "nbformat_minor": 5
}
